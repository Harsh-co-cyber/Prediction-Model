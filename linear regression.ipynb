{
 "cells": [
  {
   "cell_type": "code",
   "execution_count": 1,
   "metadata": {},
   "outputs": [],
   "source": [
    "import numpy as np\n",
    "import matplotlib.pyplot as plt\n",
    "import pandas as pd\n",
    "from sklearn.model_selection import train_test_split\n",
    "from sklearn.linear_model import LinearRegression\n",
    "from sklearn.preprocessing import MinMaxScaler, StandardScaler\n",
    "from sklearn.preprocessing import OneHotEncoder, LabelEncoder\n",
    "from sklearn.metrics import mean_squared_error\n",
    "from sklearn.metrics import r2_score, mean_squared_error"
   ]
  },
  {
   "cell_type": "code",
   "execution_count": 2,
   "metadata": {},
   "outputs": [
    {
     "name": "stderr",
     "output_type": "stream",
     "text": [
      "C:\\Users\\Dell\\AppData\\Local\\Temp\\ipykernel_2604\\3515865149.py:6: DeprecationWarning: is_categorical_dtype is deprecated and will be removed in a future version. Use isinstance(dtype, pd.CategoricalDtype) instead\n",
      "  if pd.api.types.is_categorical_dtype(dtype) or pd.api.types.is_object_dtype(dtype)]\n"
     ]
    }
   ],
   "source": [
    "data_set = pd.read_csv(\"linear-regression.csv\")\n",
    "x= data_set.iloc[:,:-1]\n",
    "y = data_set.iloc[:,-1]\n",
    "\n",
    "categorical_features = [index for index, dtype in enumerate(data_set.dtypes)\n",
    "                        if pd.api.types.is_categorical_dtype(dtype) or pd.api.types.is_object_dtype(dtype)]\n",
    "\n",
    "# Perform one-hot encoding (if necessary)\n",
    "if categorical_features:\n",
    "    x = pd.get_dummies(x, columns=[x.columns[i] for i in categorical_features], drop_first=True)\n",
    "\n",
    "# Convert X to NumPy array (if needed for further processing)\n",
    "x = x.values\n",
    "y = y.values "
   ]
  },
  {
   "cell_type": "code",
   "execution_count": 3,
   "metadata": {},
   "outputs": [
    {
     "data": {
      "text/plain": [
       "array([[ 7.4  ,  0.7  ,  0.   , ...,  3.51 ,  0.56 ,  9.4  ],\n",
       "       [ 7.8  ,  0.88 ,  0.   , ...,  3.2  ,  0.68 ,  9.8  ],\n",
       "       [ 7.8  ,  0.76 ,  0.04 , ...,  3.26 ,  0.65 ,  9.8  ],\n",
       "       ...,\n",
       "       [ 6.3  ,  0.51 ,  0.13 , ...,  3.42 ,  0.75 , 11.   ],\n",
       "       [ 5.9  ,  0.645,  0.12 , ...,  3.57 ,  0.71 , 10.2  ],\n",
       "       [ 6.   ,  0.31 ,  0.47 , ...,  3.39 ,  0.66 , 11.   ]])"
      ]
     },
     "execution_count": 3,
     "metadata": {},
     "output_type": "execute_result"
    }
   ],
   "source": [
    "x"
   ]
  },
  {
   "cell_type": "code",
   "execution_count": 4,
   "metadata": {},
   "outputs": [
    {
     "data": {
      "text/plain": [
       "array([5, 5, 5, ..., 6, 5, 6], dtype=int64)"
      ]
     },
     "execution_count": 4,
     "metadata": {},
     "output_type": "execute_result"
    }
   ],
   "source": [
    "y"
   ]
  },
  {
   "cell_type": "code",
   "execution_count": 5,
   "metadata": {},
   "outputs": [],
   "source": [
    "x_train,x_test,y_train,y_test = train_test_split(x,y,test_size = 0.2,random_state =42)\n",
    "x_train, x_val, y_train, y_val = train_test_split(x_train, y_train, test_size=0.375, random_state=42) "
   ]
  },
  {
   "cell_type": "code",
   "execution_count": 6,
   "metadata": {},
   "outputs": [
    {
     "data": {
      "text/plain": [
       "array([[ 6.9  ,  0.685,  0.   , ...,  3.46 ,  0.57 , 10.6  ],\n",
       "       [ 5.2  ,  0.34 ,  0.   , ...,  3.68 ,  0.79 , 14.   ],\n",
       "       [10.3  ,  0.53 ,  0.48 , ...,  3.12 ,  0.59 ,  9.3  ],\n",
       "       ...,\n",
       "       [12.8  ,  0.3  ,  0.74 , ...,  3.2  ,  0.77 , 10.8  ],\n",
       "       [ 7.5  ,  0.685,  0.07 , ...,  3.38 ,  0.55 , 10.9  ],\n",
       "       [ 6.5  ,  0.615,  0.   , ...,  3.46 ,  0.65 ,  9.2  ]])"
      ]
     },
     "execution_count": 6,
     "metadata": {},
     "output_type": "execute_result"
    }
   ],
   "source": [
    "x_train"
   ]
  },
  {
   "cell_type": "code",
   "execution_count": 7,
   "metadata": {},
   "outputs": [
    {
     "data": {
      "text/plain": [
       "array([[ 7.7  ,  0.56 ,  0.08 , ...,  3.24 ,  0.66 ,  9.6  ],\n",
       "       [ 7.8  ,  0.5  ,  0.17 , ...,  3.39 ,  0.48 ,  9.5  ],\n",
       "       [10.7  ,  0.67 ,  0.22 , ...,  3.28 ,  0.98 ,  9.9  ],\n",
       "       ...,\n",
       "       [ 8.3  ,  0.6  ,  0.25 , ...,  3.15 ,  0.53 ,  9.8  ],\n",
       "       [ 8.8  ,  0.27 ,  0.39 , ...,  3.15 ,  0.69 , 11.2  ],\n",
       "       [ 9.1  ,  0.765,  0.04 , ...,  3.29 ,  0.54 ,  9.7  ]])"
      ]
     },
     "execution_count": 7,
     "metadata": {},
     "output_type": "execute_result"
    }
   ],
   "source": [
    "x_test"
   ]
  },
  {
   "cell_type": "code",
   "execution_count": 8,
   "metadata": {},
   "outputs": [
    {
     "data": {
      "text/plain": [
       "array([6, 5, 6, 5, 6, 5, 5, 5, 5, 6, 7, 3, 5, 5, 6, 7, 5, 7, 8, 5, 5, 6,\n",
       "       5, 6, 6, 6, 7, 6, 5, 6, 5, 5, 6, 5, 6, 5, 7, 5, 4, 6, 5, 5, 7, 5,\n",
       "       5, 6, 7, 6, 5, 6, 5, 5, 5, 7, 6, 6, 6, 5, 5, 5, 5, 7, 5, 6, 6, 5,\n",
       "       6, 5, 6, 5, 6, 4, 6, 6, 6, 5, 8, 5, 6, 6, 5, 6, 5, 6, 6, 7, 5, 6,\n",
       "       7, 4, 7, 6, 5, 5, 5, 6, 5, 6, 5, 6, 5, 5, 5, 7, 6, 7, 6, 5, 6, 5,\n",
       "       8, 5, 6, 5, 6, 7, 6, 6, 5, 6, 6, 6, 6, 6, 6, 6, 7, 6, 5, 5, 6, 5,\n",
       "       5, 5, 6, 5, 5, 5, 5, 6, 7, 6, 8, 5, 5, 5, 6, 6, 6, 5, 6, 7, 6, 5,\n",
       "       6, 5, 5, 6, 6, 6, 7, 5, 7, 5, 5, 5, 6, 6, 5, 5, 6, 5, 7, 6, 7, 6,\n",
       "       6, 5, 5, 6, 4, 6, 5, 7, 5, 5, 4, 5, 7, 6, 5, 6, 6, 7, 6, 5, 5, 6,\n",
       "       5, 7, 5, 6, 6, 5, 7, 5, 5, 5, 6, 7, 7, 5, 5, 6, 6, 7, 6, 5, 6, 6,\n",
       "       6, 6, 6, 7, 4, 5, 5, 7, 5, 5, 5, 5, 6, 6, 5, 7, 5, 6, 6, 6, 5, 4,\n",
       "       6, 7, 6, 7, 5, 6, 6, 5, 5, 6, 5, 6, 4, 5, 6, 6, 5, 6, 6, 5, 5, 6,\n",
       "       7, 7, 6, 5, 6, 6, 5, 6, 5, 6, 5, 5, 5, 6, 6, 6, 7, 5, 5, 6, 5, 7,\n",
       "       5, 6, 4, 6, 6, 8, 6, 5, 5, 6, 5, 7, 6, 6, 5, 5, 7, 6, 6, 5, 6, 6,\n",
       "       5, 7, 6, 6, 6, 6, 5, 6, 5, 5, 6, 4], dtype=int64)"
      ]
     },
     "execution_count": 8,
     "metadata": {},
     "output_type": "execute_result"
    }
   ],
   "source": [
    "y_test"
   ]
  },
  {
   "cell_type": "code",
   "execution_count": 9,
   "metadata": {},
   "outputs": [
    {
     "data": {
      "text/plain": [
       "array([6, 6, 6, 7, 5, 5, 4, 6, 5, 5, 6, 6, 6, 5, 5, 6, 7, 6, 5, 7, 6, 7,\n",
       "       6, 6, 6, 5, 5, 6, 5, 5, 7, 5, 7, 5, 5, 5, 5, 6, 4, 6, 7, 5, 6, 7,\n",
       "       7, 5, 5, 5, 3, 6, 5, 5, 5, 5, 6, 5, 5, 6, 5, 6, 7, 6, 5, 6, 5, 5,\n",
       "       6, 5, 5, 7, 6, 5, 6, 5, 5, 6, 7, 7, 6, 5, 6, 5, 6, 5, 5, 6, 6, 6,\n",
       "       5, 5, 6, 5, 6, 6, 6, 5, 7, 3, 5, 6, 6, 5, 5, 6, 7, 7, 5, 6, 6, 5,\n",
       "       6, 5, 6, 6, 5, 5, 4, 8, 6, 6, 6, 6, 6, 6, 5, 5, 6, 6, 6, 4, 6, 5,\n",
       "       6, 5, 6, 5, 5, 5, 6, 5, 5, 6, 7, 6, 6, 5, 6, 3, 5, 5, 6, 5, 5, 6,\n",
       "       7, 5, 6, 5, 6, 6, 5, 7, 6, 5, 5, 7, 5, 5, 5, 5, 5, 5, 5, 7, 5, 6,\n",
       "       6, 6, 6, 6, 6, 6, 7, 5, 5, 5, 5, 6, 4, 5, 5, 5, 5, 5, 6, 6, 6, 7,\n",
       "       6, 5, 6, 4, 5, 5, 4, 3, 5, 5, 5, 6, 7, 6, 6, 6, 5, 6, 6, 3, 6, 5,\n",
       "       5, 6, 5, 5, 6, 6, 5, 5, 6, 5, 4, 7, 5, 6, 5, 6, 7, 6, 5, 5, 5, 7,\n",
       "       7, 7, 6, 5, 6, 6, 6, 5, 6, 6, 5, 6, 5, 6, 5, 6, 6, 6, 7, 6, 5, 7,\n",
       "       6, 5, 7, 6, 7, 5, 6, 7, 5, 5, 5, 5, 5, 6, 5, 5, 6, 7, 5, 6, 5, 6,\n",
       "       7, 6, 4, 6, 7, 5, 7, 5, 7, 6, 5, 6, 6, 6, 5, 5, 7, 5, 6, 5, 5, 5,\n",
       "       7, 5, 5, 6, 6, 5, 5, 6, 5, 5, 4, 6, 5, 7, 5, 7, 5, 5, 5, 5, 7, 5,\n",
       "       5, 6, 5, 6, 6, 6, 5, 6, 6, 4, 7, 8, 6, 7, 5, 5, 7, 4, 6, 5, 6, 5,\n",
       "       6, 6, 5, 6, 5, 6, 6, 6, 5, 5, 7, 5, 5, 6, 6, 7, 6, 7, 6, 5, 4, 5,\n",
       "       4, 6, 5, 5, 6, 5, 6, 7, 5, 6, 6, 6, 6, 7, 6, 5, 7, 6, 7, 6, 5, 5,\n",
       "       6, 5, 5, 5, 7, 5, 5, 7, 5, 5, 6, 5, 6, 5, 6, 5, 6, 6, 6, 5, 6, 4,\n",
       "       7, 6, 6, 7, 6, 5, 6, 6, 5, 6, 5, 5, 6, 6, 5, 6, 6, 6, 8, 5, 5, 6,\n",
       "       6, 6, 7, 4, 5, 6, 5, 7, 6, 6, 5, 6, 7, 5, 6, 6, 6, 5, 5, 6, 5, 6,\n",
       "       7, 7, 7, 8, 5, 5, 5, 6, 5, 5, 6, 5, 6, 5, 6, 6, 5, 6, 3, 6, 5, 7,\n",
       "       6, 6, 6, 8, 5, 6, 5, 4, 5, 5, 6, 7, 6, 5, 5, 5, 5, 5, 6, 5, 6, 6,\n",
       "       5, 5, 6, 6, 5, 5, 6, 6, 6, 7, 6, 7, 5, 5, 5, 6, 6, 5, 6, 6, 6, 5,\n",
       "       6, 5, 7, 5, 5, 4, 5, 5, 5, 5, 6, 6, 5, 6, 6, 6, 5, 6, 6, 5, 6, 5,\n",
       "       7, 5, 5, 6, 6, 5, 5, 6, 5, 6, 6, 6, 5, 6, 6, 5, 5, 7, 6, 5, 6, 3,\n",
       "       7, 6, 5, 6, 5, 7, 5, 5, 6, 6, 5, 5, 6, 5, 4, 6, 5, 3, 6, 7, 5, 5,\n",
       "       6, 5, 7, 5, 6, 5, 5, 5, 5, 6, 6, 6, 4, 7, 6, 6, 6, 6, 6, 5, 7, 5,\n",
       "       6, 6, 6, 7, 5, 5, 6, 6, 7, 6, 7, 6, 6, 6, 7, 6, 5, 6, 6, 6, 5, 6,\n",
       "       6, 6, 4, 6, 4, 5, 5, 5, 6, 6, 5, 6, 5, 6, 5, 5, 5, 6, 8, 6, 7, 8,\n",
       "       5, 6, 6, 7, 5, 6, 5, 5, 6, 7, 5, 7, 5, 5, 6, 5, 5, 5, 5, 6, 5, 8,\n",
       "       6, 6, 6, 5, 5, 7, 6, 6, 5, 6, 5, 5, 6, 5, 5, 6, 6, 5, 4, 5, 6, 7,\n",
       "       6, 7, 6, 7, 5, 5, 6, 7, 7, 6, 6, 6, 5, 6, 6, 6, 4, 4, 5, 5, 7, 7,\n",
       "       5, 5, 6, 5, 6, 5, 5, 5, 5, 7, 6, 6, 7, 5, 5, 6, 5, 7, 6, 5, 6, 5,\n",
       "       6, 6, 5, 5, 6, 6, 5, 5, 5, 7, 6, 6, 7, 5, 5, 6, 5, 6, 6, 6, 5, 5,\n",
       "       5, 5, 6, 6, 6, 6, 7, 6, 7, 6, 6, 6, 6, 6, 6, 5, 7, 5, 6, 6, 7, 5,\n",
       "       5, 6, 5, 5, 7, 4, 5], dtype=int64)"
      ]
     },
     "execution_count": 9,
     "metadata": {},
     "output_type": "execute_result"
    }
   ],
   "source": [
    "y_train"
   ]
  },
  {
   "cell_type": "code",
   "execution_count": null,
   "metadata": {},
   "outputs": [],
   "source": []
  },
  {
   "cell_type": "code",
   "execution_count": 10,
   "metadata": {},
   "outputs": [],
   "source": [
    "scaler = MinMaxScaler()  \n",
    "x_train = scaler.fit_transform(x_train)\n",
    "x_val = scaler.transform(x_val)\n",
    "x_test = scaler.transform(x_test)"
   ]
  },
  {
   "cell_type": "code",
   "execution_count": null,
   "metadata": {},
   "outputs": [],
   "source": [
    "\n"
   ]
  },
  {
   "cell_type": "code",
   "execution_count": 11,
   "metadata": {},
   "outputs": [
    {
     "data": {
      "text/plain": [
       "array([5.343809  , 5.17394099, 5.58348638, 5.39068968, 5.72882138,\n",
       "       5.25493039, 5.13092101, 5.10870953, 5.75332469, 5.66465553,\n",
       "       6.07307217, 5.24618114, 5.54627067, 5.20267798, 5.47719336,\n",
       "       6.55548753, 5.18239009, 5.62154739, 6.55394324, 5.30014071,\n",
       "       5.42631585, 5.19698537, 6.00084367, 6.39313198, 5.37620702,\n",
       "       5.42679099, 6.4097187 , 5.41503506, 5.18944189, 6.29969321,\n",
       "       5.262961  , 5.59626013, 5.76260979, 5.34109865, 5.42929394,\n",
       "       5.08926133, 6.16718076, 5.69441847, 5.6209179 , 6.21724686,\n",
       "       5.46538723, 5.32237895, 6.16074269, 5.22909234, 5.85604237,\n",
       "       5.79230455, 6.47427893, 5.61226579, 5.0936268 , 5.56130711,\n",
       "       5.13191813, 5.1414112 , 5.59210606, 6.42557479, 5.0101552 ,\n",
       "       4.99816544, 5.99833911, 5.43218739, 5.87584894, 5.22610726,\n",
       "       5.61439063, 6.02417141, 5.28027299, 5.40110905, 6.57121055,\n",
       "       5.44698004, 6.40901923, 5.26837273, 6.42977637, 5.33450806,\n",
       "       6.51587352, 4.74017172, 5.78905206, 5.84891981, 6.19515548,\n",
       "       5.30049621, 6.84627648, 5.84887474, 6.11843426, 6.56045728,\n",
       "       5.39067774, 6.49422002, 5.37777099, 5.68206869, 5.74519982,\n",
       "       6.38314528, 5.30974943, 5.88060117, 6.36781517, 5.18210657,\n",
       "       6.00728662, 5.89969178, 5.88108587, 5.90477162, 5.26911139,\n",
       "       5.76791606, 5.16850193, 5.61797397, 5.00345556, 5.51065275,\n",
       "       5.01534336, 5.08032714, 5.80816317, 5.7662922 , 5.33775651,\n",
       "       6.10603124, 5.73352435, 5.37665881, 6.22412381, 5.27754529,\n",
       "       6.77900911, 5.23604126, 6.11453876, 4.70013242, 5.84811912,\n",
       "       6.01943379, 6.23749224, 5.47488762, 5.06746613, 5.76897435,\n",
       "       6.25565724, 5.20278793, 5.73535124, 5.30161755, 5.4376069 ,\n",
       "       5.22626949, 6.24032612, 5.70823606, 5.6178228 , 5.86125693,\n",
       "       5.78905206, 5.17270088, 5.08065226, 6.38479978, 5.56130711,\n",
       "       5.10244579, 5.0050731 , 5.3259868 , 5.00705042, 5.665863  ,\n",
       "       6.15280178, 6.12607389, 6.21327893, 5.43352054, 5.84966903,\n",
       "       5.25475946, 6.10814283, 5.39206218, 5.95159212, 5.16897018,\n",
       "       5.67731526, 6.19357473, 5.10998928, 5.67304256, 5.78905206,\n",
       "       6.06356005, 5.24356814, 5.93467717, 5.50136774, 5.92660476,\n",
       "       6.37774259, 5.73972518, 6.01743545, 4.98506934, 5.37565686,\n",
       "       5.59451379, 4.67432622, 5.23239437, 5.06411759, 5.04078992,\n",
       "       5.18192106, 5.11378273, 6.37270584, 5.41948914, 6.06031459,\n",
       "       5.78206607, 6.12758584, 5.45265853, 5.43402482, 5.10356347,\n",
       "       4.69283459, 6.39859677, 5.59112737, 6.64854507, 5.19353466,\n",
       "       6.29621986, 5.34589105, 5.67546166, 6.78835698, 5.41948914,\n",
       "       5.39959444, 6.08885246, 5.54021868, 6.51244111, 5.82179044,\n",
       "       5.34463355, 4.93184291, 5.39110282, 5.51583703, 6.10603124,\n",
       "       5.36014131, 5.75789138, 5.53261986, 5.05331714, 6.62042687,\n",
       "       5.66782563, 4.74443093, 5.81539712, 5.72580745, 5.99768079,\n",
       "       6.04770863, 5.13384956, 5.7484183 , 6.43980278, 6.44348856,\n",
       "       5.80206184, 5.5436986 , 5.13022306, 5.85217661, 5.34085612,\n",
       "       5.0911312 , 6.35629462, 6.3785389 , 5.98164713, 5.10563044,\n",
       "       4.72939738, 5.24334211, 6.49852095, 5.46303973, 5.31821664,\n",
       "       5.5332923 , 5.0218169 , 6.37025213, 6.00331481, 5.9282984 ,\n",
       "       6.10603124, 5.33391272, 5.74519982, 4.79320982, 5.07329759,\n",
       "       5.69848139, 4.99246195, 5.9327229 , 6.09576752, 5.28424822,\n",
       "       5.51479151, 5.94641154, 5.38117923, 6.67070057, 5.12288884,\n",
       "       5.73546548, 5.63011367, 5.28500373, 5.47614095, 5.16994377,\n",
       "       5.10496009, 5.35325056, 5.87365381, 5.66887117, 6.92688647,\n",
       "       6.21842254, 6.09080754, 5.45265853, 6.55492546, 5.88831026,\n",
       "       6.27150008, 5.09885374, 4.94360676, 5.88877527, 6.31135274,\n",
       "       5.08010033, 5.74199077, 5.41254161, 5.16621831, 5.20039352,\n",
       "       5.58253832, 5.59863108, 6.14055868, 6.2412177 , 5.26343977,\n",
       "       6.54632292, 5.02105208, 5.29843809, 5.60605022, 5.36340118,\n",
       "       5.70196611, 5.02184079, 6.12607389, 4.95247595, 5.91408234,\n",
       "       5.74293123, 6.60567689, 5.64814897, 5.53672245, 5.01526961,\n",
       "       6.36035376, 5.09737916, 6.30057375, 6.23076549, 6.55676781,\n",
       "       5.46489663, 5.11391051, 6.3128976 , 5.23522586, 5.2857576 ,\n",
       "       5.41239391, 5.81352111, 5.82198323, 6.31322087, 6.6883346 ,\n",
       "       5.56112029, 5.49384343, 5.58977331, 5.60297497, 5.34109865,\n",
       "       5.70949361, 5.1223234 , 5.28654374, 6.26217996, 5.15917434])"
      ]
     },
     "execution_count": 11,
     "metadata": {},
     "output_type": "execute_result"
    }
   ],
   "source": [
    "model = LinearRegression()\n",
    "model.fit(x_train, y_train)\n",
    "y_pred = model.predict(x_test)\n",
    "y_pred\n"
   ]
  },
  {
   "cell_type": "code",
   "execution_count": 12,
   "metadata": {},
   "outputs": [],
   "source": [
    "def gradient_ascent(x, y, learning_rate, epochs):\n",
    "  m = len(y)  \n",
    "  weights = np.zeros(x.shape[1])  \n",
    "\n",
    "  for epoch in range(epochs):\n",
    "    predicted_y = np.dot(x, weights)\n",
    "    errors = predicted_y - y\n",
    "    gradient = np.dot(x.T, errors) / m\n",
    "    weights += learning_rate * gradient\n",
    "    return weights\n",
    "weights_001 = gradient_ascent(x_train, y_train, 0.01, 1000)\n",
    "weights_0001 = gradient_ascent(x_train, y_train, 0.001, 1000)\n",
    "weights_00001 = gradient_ascent(x_train, y_train, 0.0001, 1000)"
   ]
  },
  {
   "cell_type": "code",
   "execution_count": 13,
   "metadata": {},
   "outputs": [],
   "source": [
    "\n",
    "y_pred_001 = np.dot(x_test, weights_001)\n",
    "y_pred_0001 = np.dot(x_test, weights_0001)\n",
    "y_pred_00001 = np.dot(x_test, weights_00001)\n",
    "r2_001 = r2_score(y_test, y_pred_001)\n",
    "r2_002 = r2_score(y_test, y_pred_0001)\n",
    "r2_003 = r2_score(y_test, y_pred_00001)\n"
   ]
  },
  {
   "cell_type": "code",
   "execution_count": 14,
   "metadata": {},
   "outputs": [],
   "source": [
    "mse_001 = mean_squared_error(y_test, y_pred_001)\n",
    "mse_0001 = mean_squared_error(y_test, y_pred_0001)\n",
    "mse_00001 = mean_squared_error(y_test, y_pred_00001)\n",
    "\n",
    "rmse_001 = np.sqrt(mse_001)\n",
    "rmse_0001 = np.sqrt(mse_0001)\n",
    "rmse_00001 = np.sqrt(mse_00001)"
   ]
  },
  {
   "cell_type": "code",
   "execution_count": 15,
   "metadata": {},
   "outputs": [
    {
     "data": {
      "text/plain": [
       "-49.53911687615131"
      ]
     },
     "execution_count": 15,
     "metadata": {},
     "output_type": "execute_result"
    }
   ],
   "source": [
    "r2_002"
   ]
  },
  {
   "cell_type": "code",
   "execution_count": 16,
   "metadata": {},
   "outputs": [
    {
     "data": {
      "image/png": "[encoded data removed]",
      "text/plain": [
       "<Figure size 640x480 with 1 Axes>"
      ]
     },
     "metadata": {},
     "output_type": "display_data"
    }
   ],
   "source": [
    "plt.scatter(x_test[:, 0], y_test, color='red')  # Assuming the first feature for x-axis\n",
    "plt.plot(x_test[:, 0], y_pred_001, color='blue', label='Learning Rate 0.01')\n",
    "plt.plot(x_test[:, 0], y_pred_0001, color='green', label='Learning Rate 0.001')\n",
    "plt.plot(x_test[:, 0], y_pred_00001, color='orange', label='Learning Rate 0.0001')\n",
    "plt.title(\"Test Set Predictions\")\n",
    "plt.xlabel(\"x\")\n",
    "plt.ylabel(\"y\")\n",
    "plt.legend()\n",
    "plt.show()"
   ]
  },
  {
   "cell_type": "code",
   "execution_count": 17,
   "metadata": {},
   "outputs": [
    {
     "data": {
      "text/plain": [
       "5.79553040290552"
      ]
     },
     "execution_count": 17,
     "metadata": {},
     "output_type": "execute_result"
    }
   ],
   "source": [
    "rmse_001 "
   ]
  },
  {
   "cell_type": "code",
   "execution_count": 18,
   "metadata": {},
   "outputs": [
    {
     "data": {
      "text/plain": [
       "5.746965199668677"
      ]
     },
     "execution_count": 18,
     "metadata": {},
     "output_type": "execute_result"
    }
   ],
   "source": [
    "\n",
    "rmse_0001"
   ]
  },
  {
   "cell_type": "code",
   "execution_count": 19,
   "metadata": {},
   "outputs": [
    {
     "data": {
      "text/plain": [
       "5.742109428862472"
      ]
     },
     "execution_count": 19,
     "metadata": {},
     "output_type": "execute_result"
    }
   ],
   "source": [
    "\n",
    "rmse_00001 "
   ]
  }
 ],
 "metadata": {
  "kernelspec": {
   "display_name": "Python 3",
   "language": "python",
   "name": "python3"
  },
  "language_info": {
   "codemirror_mode": {
    "name": "ipython",
    "version": 3
   },
   "file_extension": ".py",
   "mimetype": "text/x-python",
   "name": "python",
   "nbconvert_exporter": "python",
   "pygments_lexer": "ipython3",
   "version": "3.12.3"
  }
 },
 "nbformat": 4,
 "nbformat_minor": 2
}
